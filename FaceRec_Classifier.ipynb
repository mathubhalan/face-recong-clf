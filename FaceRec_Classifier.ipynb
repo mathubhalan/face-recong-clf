{
  "nbformat": 4,
  "nbformat_minor": 0,
  "metadata": {
    "accelerator": "GPU",
    "colab": {
      "name": "FaceRec-Classifier.ipynb",
      "provenance": [],
      "collapsed_sections": []
    },
    "kernelspec": {
      "display_name": "Python 3",
      "name": "python3"
    }
  },
  "cells": [
    {
      "cell_type": "code",
      "metadata": {
        "id": "flZ-CvwYJZsz",
        "outputId": "bd5875d9-f035-472f-c828-cd396cf7c5f0",
        "colab": {
          "base_uri": "https://localhost:8080/"
        }
      },
      "source": [
        "from google.colab import drive\n",
        "drive.mount('/content/drive')\n",
        "path = \"/content/drive/My Drive/\""
      ],
      "execution_count": 5,
      "outputs": [
        {
          "output_type": "stream",
          "text": [
            "Drive already mounted at /content/drive; to attempt to forcibly remount, call drive.mount(\"/content/drive\", force_remount=True).\n"
          ],
          "name": "stdout"
        }
      ]
    },
    {
      "cell_type": "code",
      "metadata": {
        "id": "TNwbN8n4Hsau",
        "outputId": "d886a03f-9bae-46e0-cb22-599da2460d36",
        "colab": {
          "base_uri": "https://localhost:8080/"
        }
      },
      "source": [
        "## buld dlib\n",
        "!git clone https://github.com/davisking/dlib.git\n",
        "cd /content/dlib/\n",
        "!mkdir build\n",
        "\n"
      ],
      "execution_count": 1,
      "outputs": [
        {
          "output_type": "stream",
          "text": [
            "Cloning into 'dlib'...\n",
            "remote: Enumerating objects: 63, done.\u001b[K\n",
            "remote: Counting objects: 100% (63/63), done.\u001b[K\n",
            "remote: Compressing objects: 100% (55/55), done.\u001b[K\n",
            "remote: Total 48595 (delta 37), reused 17 (delta 8), pack-reused 48532\u001b[K\n",
            "Receiving objects: 100% (48595/48595), 23.12 MiB | 26.87 MiB/s, done.\n",
            "Resolving deltas: 100% (34322/34322), done.\n",
            "/bin/bash: line 0: cd: /content/dlib/build: No such file or directory\n",
            "CMake Error: The source directory \"/\" does not appear to contain CMakeLists.txt.\n",
            "Specify --help for usage, or press the help button on the CMake GUI.\n",
            "Error: could not load cache\n",
            "python3: can't open file 'setup.py': [Errno 2] No such file or directory\n"
          ],
          "name": "stdout"
        }
      ]
    },
    {
      "cell_type": "code",
      "metadata": {
        "id": "zJmvYLVPJ7HI",
        "outputId": "b274c1a7-0983-434f-eadb-7d75837c19a7",
        "colab": {
          "base_uri": "https://localhost:8080/"
        }
      },
      "source": [
        "cd /content/dlib/build"
      ],
      "execution_count": 3,
      "outputs": [
        {
          "output_type": "stream",
          "text": [
            "/content/dlib/build\n"
          ],
          "name": "stdout"
        }
      ]
    },
    {
      "cell_type": "code",
      "metadata": {
        "id": "gJ-5YC9lJyQ5",
        "outputId": "0cc9ee8a-41db-4a39-8378-acbb666fee74",
        "colab": {
          "base_uri": "https://localhost:8080/"
        }
      },
      "source": [
        "!cmake .. -DDLIB_USE_CUDA=1 -DUSE_AVX_INSTRUCTIONS=1\n",
        "!cmake --build .\n"
      ],
      "execution_count": 4,
      "outputs": [
        {
          "output_type": "stream",
          "text": [
            "-- The C compiler identification is GNU 7.5.0\n",
            "-- The CXX compiler identification is GNU 7.5.0\n",
            "-- Check for working C compiler: /usr/bin/cc\n",
            "-- Check for working C compiler: /usr/bin/cc -- works\n",
            "-- Detecting C compiler ABI info\n",
            "-- Detecting C compiler ABI info - done\n",
            "-- Detecting C compile features\n",
            "-- Detecting C compile features - done\n",
            "-- Check for working CXX compiler: /usr/bin/c++\n",
            "-- Check for working CXX compiler: /usr/bin/c++ -- works\n",
            "-- Detecting CXX compiler ABI info\n",
            "-- Detecting CXX compiler ABI info - done\n",
            "-- Detecting CXX compile features\n",
            "-- Detecting CXX compile features - done\n",
            "-- Using CMake version: 3.12.0\n",
            "-- Compiling dlib version: 19.21.99\n",
            "-- Enabling AVX instructions\n",
            "-- Looking for pthread.h\n",
            "-- Looking for pthread.h - found\n",
            "-- Looking for pthread_create\n",
            "-- Looking for pthread_create - not found\n",
            "-- Looking for pthread_create in pthreads\n",
            "-- Looking for pthread_create in pthreads - not found\n",
            "-- Looking for pthread_create in pthread\n",
            "-- Looking for pthread_create in pthread - found\n",
            "-- Found Threads: TRUE  \n",
            "-- Looking for XOpenDisplay in /usr/lib/x86_64-linux-gnu/libX11.so;/usr/lib/x86_64-linux-gnu/libXext.so\n",
            "-- Looking for XOpenDisplay in /usr/lib/x86_64-linux-gnu/libX11.so;/usr/lib/x86_64-linux-gnu/libXext.so - found\n",
            "-- Looking for gethostbyname\n",
            "-- Looking for gethostbyname - found\n",
            "-- Looking for connect\n",
            "-- Looking for connect - found\n",
            "-- Looking for remove\n",
            "-- Looking for remove - found\n",
            "-- Looking for shmat\n",
            "-- Looking for shmat - found\n",
            "-- Looking for IceConnectionNumber in ICE\n",
            "-- Looking for IceConnectionNumber in ICE - found\n",
            "-- Found X11: /usr/lib/x86_64-linux-gnu/libX11.so\n",
            "-- Found system copy of libpng: /usr/lib/x86_64-linux-gnu/libpng.so;/usr/lib/x86_64-linux-gnu/libz.so\n",
            "-- Found system copy of libjpeg: /usr/lib/x86_64-linux-gnu/libjpeg.so\n",
            "-- Searching for BLAS and LAPACK\n",
            "-- Searching for BLAS and LAPACK\n",
            "-- Found PkgConfig: /usr/bin/pkg-config (found version \"0.29.1\") \n",
            "-- Checking for module 'cblas'\n",
            "--   No package 'cblas' found\n",
            "-- Checking for module 'lapack'\n",
            "--   Found lapack, version 0.2.20+ds\n",
            "-- Looking for cblas_ddot\n",
            "-- Looking for cblas_ddot - not found\n",
            "-- Looking for sys/types.h\n",
            "-- Looking for sys/types.h - found\n",
            "-- Looking for stdint.h\n",
            "-- Looking for stdint.h - found\n",
            "-- Looking for stddef.h\n",
            "-- Looking for stddef.h - found\n",
            "-- Check size of void*\n",
            "-- Check size of void* - done\n",
            "-- Found Intel MKL BLAS/LAPACK library\n",
            "-- Looking for sgesv\n",
            "-- Looking for sgesv - found\n",
            "-- Looking for sgesv_\n",
            "-- Looking for sgesv_ - found\n",
            "-- Found CUDA: /usr/local/cuda (found suitable version \"10.1\", minimum required is \"7.5\") \n",
            "-- Looking for cuDNN install...\n",
            "-- Found cuDNN: /usr/lib/x86_64-linux-gnu/libcudnn.so\n",
            "-- Building a CUDA test project to see if your compiler is compatible with CUDA...\n",
            "-- Building a cuDNN test project to check if you have the right version of cuDNN installed...\n",
            "-- Enabling CUDA support for dlib.  DLIB WILL USE CUDA\n",
            "-- C++11 activated.\n",
            "-- Configuring done\n",
            "-- Generating done\n",
            "-- Build files have been written to: /content/dlib/build\n",
            "[  1%] \u001b[34m\u001b[1mBuilding NVCC (Device) object dlib/CMakeFiles/dlib.dir/cuda/dlib_generated_cusolver_dlibapi.cu.o\u001b[0m\n",
            "[  3%] \u001b[34m\u001b[1mBuilding NVCC (Device) object dlib/CMakeFiles/dlib.dir/cuda/dlib_generated_cuda_dlib.cu.o\u001b[0m\n",
            "\u001b[35m\u001b[1mScanning dependencies of target dlib\u001b[0m\n",
            "[  4%] \u001b[32mBuilding CXX object dlib/CMakeFiles/dlib.dir/base64/base64_kernel_1.cpp.o\u001b[0m\n",
            "[  6%] \u001b[32mBuilding CXX object dlib/CMakeFiles/dlib.dir/bigint/bigint_kernel_1.cpp.o\u001b[0m\n",
            "[  7%] \u001b[32mBuilding CXX object dlib/CMakeFiles/dlib.dir/bigint/bigint_kernel_2.cpp.o\u001b[0m\n",
            "[  9%] \u001b[32mBuilding CXX object dlib/CMakeFiles/dlib.dir/bit_stream/bit_stream_kernel_1.cpp.o\u001b[0m\n",
            "[ 10%] \u001b[32mBuilding CXX object dlib/CMakeFiles/dlib.dir/entropy_decoder/entropy_decoder_kernel_1.cpp.o\u001b[0m\n",
            "[ 12%] \u001b[32mBuilding CXX object dlib/CMakeFiles/dlib.dir/entropy_decoder/entropy_decoder_kernel_2.cpp.o\u001b[0m\n",
            "[ 13%] \u001b[32mBuilding CXX object dlib/CMakeFiles/dlib.dir/entropy_encoder/entropy_encoder_kernel_1.cpp.o\u001b[0m\n",
            "[ 15%] \u001b[32mBuilding CXX object dlib/CMakeFiles/dlib.dir/entropy_encoder/entropy_encoder_kernel_2.cpp.o\u001b[0m\n",
            "[ 16%] \u001b[32mBuilding CXX object dlib/CMakeFiles/dlib.dir/md5/md5_kernel_1.cpp.o\u001b[0m\n",
            "[ 18%] \u001b[32mBuilding CXX object dlib/CMakeFiles/dlib.dir/tokenizer/tokenizer_kernel_1.cpp.o\u001b[0m\n",
            "[ 19%] \u001b[32mBuilding CXX object dlib/CMakeFiles/dlib.dir/unicode/unicode.cpp.o\u001b[0m\n",
            "[ 21%] \u001b[32mBuilding CXX object dlib/CMakeFiles/dlib.dir/test_for_odr_violations.cpp.o\u001b[0m\n",
            "[ 22%] \u001b[32mBuilding CXX object dlib/CMakeFiles/dlib.dir/sockets/sockets_kernel_1.cpp.o\u001b[0m\n",
            "[ 24%] \u001b[32mBuilding CXX object dlib/CMakeFiles/dlib.dir/bsp/bsp.cpp.o\u001b[0m\n",
            "[ 25%] \u001b[32mBuilding CXX object dlib/CMakeFiles/dlib.dir/dir_nav/dir_nav_kernel_1.cpp.o\u001b[0m\n",
            "[ 27%] \u001b[32mBuilding CXX object dlib/CMakeFiles/dlib.dir/dir_nav/dir_nav_kernel_2.cpp.o\u001b[0m\n",
            "[ 28%] \u001b[32mBuilding CXX object dlib/CMakeFiles/dlib.dir/dir_nav/dir_nav_extensions.cpp.o\u001b[0m\n",
            "[ 30%] \u001b[32mBuilding CXX object dlib/CMakeFiles/dlib.dir/linker/linker_kernel_1.cpp.o\u001b[0m\n",
            "[ 31%] \u001b[32mBuilding CXX object dlib/CMakeFiles/dlib.dir/logger/extra_logger_headers.cpp.o\u001b[0m\n",
            "[ 33%] \u001b[32mBuilding CXX object dlib/CMakeFiles/dlib.dir/logger/logger_kernel_1.cpp.o\u001b[0m\n",
            "[ 34%] \u001b[32mBuilding CXX object dlib/CMakeFiles/dlib.dir/logger/logger_config_file.cpp.o\u001b[0m\n",
            "[ 36%] \u001b[32mBuilding CXX object dlib/CMakeFiles/dlib.dir/misc_api/misc_api_kernel_1.cpp.o\u001b[0m\n",
            "[ 37%] \u001b[32mBuilding CXX object dlib/CMakeFiles/dlib.dir/misc_api/misc_api_kernel_2.cpp.o\u001b[0m\n",
            "[ 39%] \u001b[32mBuilding CXX object dlib/CMakeFiles/dlib.dir/sockets/sockets_extensions.cpp.o\u001b[0m\n",
            "[ 40%] \u001b[32mBuilding CXX object dlib/CMakeFiles/dlib.dir/sockets/sockets_kernel_2.cpp.o\u001b[0m\n",
            "[ 42%] \u001b[32mBuilding CXX object dlib/CMakeFiles/dlib.dir/sockstreambuf/sockstreambuf.cpp.o\u001b[0m\n",
            "[ 43%] \u001b[32mBuilding CXX object dlib/CMakeFiles/dlib.dir/sockstreambuf/sockstreambuf_unbuffered.cpp.o\u001b[0m\n",
            "[ 45%] \u001b[32mBuilding CXX object dlib/CMakeFiles/dlib.dir/server/server_kernel.cpp.o\u001b[0m\n",
            "[ 46%] \u001b[32mBuilding CXX object dlib/CMakeFiles/dlib.dir/server/server_iostream.cpp.o\u001b[0m\n",
            "[ 48%] \u001b[32mBuilding CXX object dlib/CMakeFiles/dlib.dir/server/server_http.cpp.o\u001b[0m\n",
            "[ 50%] \u001b[32mBuilding CXX object dlib/CMakeFiles/dlib.dir/threads/multithreaded_object_extension.cpp.o\u001b[0m\n",
            "[ 51%] \u001b[32mBuilding CXX object dlib/CMakeFiles/dlib.dir/threads/threaded_object_extension.cpp.o\u001b[0m\n",
            "[ 53%] \u001b[32mBuilding CXX object dlib/CMakeFiles/dlib.dir/threads/threads_kernel_1.cpp.o\u001b[0m\n",
            "[ 54%] \u001b[32mBuilding CXX object dlib/CMakeFiles/dlib.dir/threads/threads_kernel_2.cpp.o\u001b[0m\n",
            "[ 56%] \u001b[32mBuilding CXX object dlib/CMakeFiles/dlib.dir/threads/threads_kernel_shared.cpp.o\u001b[0m\n",
            "[ 57%] \u001b[32mBuilding CXX object dlib/CMakeFiles/dlib.dir/threads/thread_pool_extension.cpp.o\u001b[0m\n",
            "[ 59%] \u001b[32mBuilding CXX object dlib/CMakeFiles/dlib.dir/threads/async.cpp.o\u001b[0m\n",
            "[ 60%] \u001b[32mBuilding CXX object dlib/CMakeFiles/dlib.dir/timer/timer.cpp.o\u001b[0m\n",
            "[ 62%] \u001b[32mBuilding CXX object dlib/CMakeFiles/dlib.dir/stack_trace.cpp.o\u001b[0m\n",
            "[ 63%] \u001b[32mBuilding CXX object dlib/CMakeFiles/dlib.dir/cuda/cpu_dlib.cpp.o\u001b[0m\n",
            "[ 65%] \u001b[32mBuilding CXX object dlib/CMakeFiles/dlib.dir/cuda/tensor_tools.cpp.o\u001b[0m\n",
            "[ 66%] \u001b[32mBuilding CXX object dlib/CMakeFiles/dlib.dir/data_io/image_dataset_metadata.cpp.o\u001b[0m\n",
            "[ 68%] \u001b[32mBuilding CXX object dlib/CMakeFiles/dlib.dir/data_io/mnist.cpp.o\u001b[0m\n",
            "[ 69%] \u001b[32mBuilding CXX object dlib/CMakeFiles/dlib.dir/global_optimization/global_function_search.cpp.o\u001b[0m\n",
            "[ 71%] \u001b[32mBuilding CXX object dlib/CMakeFiles/dlib.dir/filtering/kalman_filter.cpp.o\u001b[0m\n",
            "[ 72%] \u001b[32mBuilding CXX object dlib/CMakeFiles/dlib.dir/svm/auto.cpp.o\u001b[0m\n",
            "[ 74%] \u001b[32mBuilding CXX object dlib/CMakeFiles/dlib.dir/gui_widgets/fonts.cpp.o\u001b[0m\n",
            "[ 75%] \u001b[32mBuilding CXX object dlib/CMakeFiles/dlib.dir/gui_widgets/widgets.cpp.o\u001b[0m\n",
            "[ 77%] \u001b[32mBuilding CXX object dlib/CMakeFiles/dlib.dir/gui_widgets/drawable.cpp.o\u001b[0m\n",
            "[ 78%] \u001b[32mBuilding CXX object dlib/CMakeFiles/dlib.dir/gui_widgets/canvas_drawing.cpp.o\u001b[0m\n",
            "[ 80%] \u001b[32mBuilding CXX object dlib/CMakeFiles/dlib.dir/gui_widgets/style.cpp.o\u001b[0m\n",
            "[ 81%] \u001b[32mBuilding CXX object dlib/CMakeFiles/dlib.dir/gui_widgets/base_widgets.cpp.o\u001b[0m\n",
            "[ 83%] \u001b[32mBuilding CXX object dlib/CMakeFiles/dlib.dir/gui_core/gui_core_kernel_1.cpp.o\u001b[0m\n",
            "[ 84%] \u001b[32mBuilding CXX object dlib/CMakeFiles/dlib.dir/gui_core/gui_core_kernel_2.cpp.o\u001b[0m\n",
            "[ 86%] \u001b[32mBuilding CXX object dlib/CMakeFiles/dlib.dir/image_loader/png_loader.cpp.o\u001b[0m\n",
            "[ 87%] \u001b[32mBuilding CXX object dlib/CMakeFiles/dlib.dir/image_saver/save_png.cpp.o\u001b[0m\n",
            "[ 89%] \u001b[32mBuilding CXX object dlib/CMakeFiles/dlib.dir/image_loader/jpeg_loader.cpp.o\u001b[0m\n",
            "[ 90%] \u001b[32mBuilding CXX object dlib/CMakeFiles/dlib.dir/image_saver/save_jpeg.cpp.o\u001b[0m\n",
            "[ 92%] \u001b[32mBuilding CXX object dlib/CMakeFiles/dlib.dir/cuda/cudnn_dlibapi.cpp.o\u001b[0m\n",
            "[ 93%] \u001b[32mBuilding CXX object dlib/CMakeFiles/dlib.dir/cuda/cublas_dlibapi.cpp.o\u001b[0m\n",
            "[ 95%] \u001b[32mBuilding CXX object dlib/CMakeFiles/dlib.dir/cuda/curand_dlibapi.cpp.o\u001b[0m\n",
            "[ 96%] \u001b[32mBuilding CXX object dlib/CMakeFiles/dlib.dir/cuda/cuda_data_ptr.cpp.o\u001b[0m\n",
            "[ 98%] \u001b[32mBuilding CXX object dlib/CMakeFiles/dlib.dir/cuda/gpu_data.cpp.o\u001b[0m\n",
            "[100%] \u001b[32m\u001b[1mLinking CXX static library libdlib.a\u001b[0m\n",
            "[100%] Built target dlib\n"
          ],
          "name": "stdout"
        }
      ]
    },
    {
      "cell_type": "code",
      "metadata": {
        "id": "cTA_vG9uJ0sz"
      },
      "source": [
        "cd /content/dlib/\n",
        "!python setup.py install --yes USE_AVX_INSTRUCTIONS --yes DLIB_USE_CUDA"
      ],
      "execution_count": null,
      "outputs": []
    },
    {
      "cell_type": "code",
      "metadata": {
        "id": "WlIa1RiDJoDp",
        "outputId": "22c4d276-f81b-481a-fc19-85e5ce71367f",
        "colab": {
          "base_uri": "https://localhost:8080/"
        }
      },
      "source": [
        "!pip install dlib"
      ],
      "execution_count": null,
      "outputs": [
        {
          "output_type": "stream",
          "text": [
            "Requirement already satisfied: dlib in /usr/local/lib/python3.6/dist-packages (19.18.0)\n"
          ],
          "name": "stdout"
        }
      ]
    },
    {
      "cell_type": "code",
      "metadata": {
        "id": "hgFB3vhfcSOi",
        "outputId": "eb031c1d-2648-428d-d4e8-b98697e5111e",
        "colab": {
          "base_uri": "https://localhost:8080/"
        }
      },
      "source": [
        "pip install face_recognition"
      ],
      "execution_count": 6,
      "outputs": [
        {
          "output_type": "stream",
          "text": [
            "Requirement already satisfied: face_recognition in /usr/local/lib/python3.6/dist-packages (1.3.0)\n",
            "Requirement already satisfied: Click>=6.0 in /usr/local/lib/python3.6/dist-packages (from face_recognition) (7.1.2)\n",
            "Requirement already satisfied: dlib>=19.7 in /usr/local/lib/python3.6/dist-packages (from face_recognition) (19.18.0)\n",
            "Requirement already satisfied: Pillow in /usr/local/lib/python3.6/dist-packages (from face_recognition) (7.0.0)\n",
            "Requirement already satisfied: face-recognition-models>=0.3.0 in /usr/local/lib/python3.6/dist-packages (from face_recognition) (0.3.0)\n",
            "Requirement already satisfied: numpy in /usr/local/lib/python3.6/dist-packages (from face_recognition) (1.18.5)\n"
          ],
          "name": "stdout"
        }
      ]
    },
    {
      "cell_type": "code",
      "metadata": {
        "id": "aSRXLKwvckYl",
        "outputId": "7d2784c1-de20-4f49-eb48-ab51389b8bf9",
        "colab": {
          "base_uri": "https://localhost:8080/"
        }
      },
      "source": [
        "!pip install imutils"
      ],
      "execution_count": 7,
      "outputs": [
        {
          "output_type": "stream",
          "text": [
            "Requirement already satisfied: imutils in /usr/local/lib/python3.6/dist-packages (0.5.3)\n"
          ],
          "name": "stdout"
        }
      ]
    },
    {
      "cell_type": "markdown",
      "metadata": {
        "id": "cbvJVg0Ieezs"
      },
      "source": [
        "# encode face\n"
      ]
    },
    {
      "cell_type": "code",
      "metadata": {
        "id": "_DKVCxSDeBxZ"
      },
      "source": [
        "from imutils import paths\n",
        "import face_recognition\n",
        "import argparse\n",
        "import pickle\n",
        "import cv2\n",
        "import os"
      ],
      "execution_count": 8,
      "outputs": []
    },
    {
      "cell_type": "code",
      "metadata": {
        "id": "BjvDDwa9e-0I"
      },
      "source": [
        "dataset = \"/content/drive/My Drive/face-recong/dataset/\""
      ],
      "execution_count": 9,
      "outputs": []
    },
    {
      "cell_type": "code",
      "metadata": {
        "id": "AwxKQ6Jn53-x"
      },
      "source": [
        "encodings_path = path+\"encodings_v1.pickle\""
      ],
      "execution_count": 10,
      "outputs": []
    },
    {
      "cell_type": "code",
      "metadata": {
        "id": "KlPo_0m06qTU",
        "outputId": "31afa297-aaa9-495a-b602-b22f3863cb1a",
        "colab": {
          "base_uri": "https://localhost:8080/"
        }
      },
      "source": [
        "# grab the paths to the input images in our dataset\n",
        "print(\"[INFO] quantifying faces...\")\n",
        "imagePaths = list(paths.list_images(dataset))\n",
        "\n",
        "# initialize the list of known encodings and known names\n",
        "knownEncodings = []\n",
        "knownNames = []\n"
      ],
      "execution_count": 11,
      "outputs": [
        {
          "output_type": "stream",
          "text": [
            "[INFO] quantifying faces...\n"
          ],
          "name": "stdout"
        }
      ]
    },
    {
      "cell_type": "code",
      "metadata": {
        "id": "uXxgDXpV7bTm",
        "outputId": "fdb679bc-393b-4ff5-ffd7-8ec8048a600c",
        "colab": {
          "base_uri": "https://localhost:8080/"
        }
      },
      "source": [
        "# loop over the image paths\n",
        "for (i, imagePath) in enumerate(imagePaths):\n",
        "\t# extract the person name from the image path\n",
        "\tprint(\"[INFO] processing image {}/{}\".format(i + 1,\n",
        "\t\tlen(imagePaths)))\n",
        "\tname = imagePath.split(os.path.sep)[-2]\n",
        "\n",
        "\t# load the input image and convert it from RGB (OpenCV ordering)\n",
        "\t# to dlib ordering (RGB)\n",
        "\timage = cv2.imread(imagePath)\n",
        "\trgb = cv2.cvtColor(image, cv2.COLOR_BGR2RGB)\n",
        "\n",
        "\t# detect the (x, y)-coordinates of the bounding boxes\n",
        "\t# corresponding to each face in the input image\n",
        "\tboxes = face_recognition.face_locations(rgb,\n",
        "\t\tmodel=\"cnn\")\n",
        "\n",
        "\t# compute the facial embedding for the face\n",
        "\tencodings = face_recognition.face_encodings(rgb, boxes)\n",
        "\n",
        "\t# loop over the encodings\n",
        "\tfor encoding in encodings:\n",
        "\t\t# add each encoding + name to our set of known names and\n",
        "\t\t# encodings\n",
        "\t\tknownEncodings.append(encoding)\n",
        "\t\tknownNames.append(name)"
      ],
      "execution_count": 12,
      "outputs": [
        {
          "output_type": "stream",
          "text": [
            "[INFO] processing image 1/107\n",
            "[INFO] processing image 2/107\n",
            "[INFO] processing image 3/107\n",
            "[INFO] processing image 4/107\n",
            "[INFO] processing image 5/107\n",
            "[INFO] processing image 6/107\n",
            "[INFO] processing image 7/107\n",
            "[INFO] processing image 8/107\n",
            "[INFO] processing image 9/107\n",
            "[INFO] processing image 10/107\n",
            "[INFO] processing image 11/107\n",
            "[INFO] processing image 12/107\n",
            "[INFO] processing image 13/107\n",
            "[INFO] processing image 14/107\n",
            "[INFO] processing image 15/107\n",
            "[INFO] processing image 16/107\n",
            "[INFO] processing image 17/107\n",
            "[INFO] processing image 18/107\n",
            "[INFO] processing image 19/107\n",
            "[INFO] processing image 20/107\n",
            "[INFO] processing image 21/107\n",
            "[INFO] processing image 22/107\n",
            "[INFO] processing image 23/107\n",
            "[INFO] processing image 24/107\n",
            "[INFO] processing image 25/107\n",
            "[INFO] processing image 26/107\n",
            "[INFO] processing image 27/107\n",
            "[INFO] processing image 28/107\n",
            "[INFO] processing image 29/107\n",
            "[INFO] processing image 30/107\n",
            "[INFO] processing image 31/107\n",
            "[INFO] processing image 32/107\n",
            "[INFO] processing image 33/107\n",
            "[INFO] processing image 34/107\n",
            "[INFO] processing image 35/107\n",
            "[INFO] processing image 36/107\n",
            "[INFO] processing image 37/107\n",
            "[INFO] processing image 38/107\n",
            "[INFO] processing image 39/107\n",
            "[INFO] processing image 40/107\n",
            "[INFO] processing image 41/107\n",
            "[INFO] processing image 42/107\n",
            "[INFO] processing image 43/107\n",
            "[INFO] processing image 44/107\n",
            "[INFO] processing image 45/107\n",
            "[INFO] processing image 46/107\n",
            "[INFO] processing image 47/107\n",
            "[INFO] processing image 48/107\n",
            "[INFO] processing image 49/107\n",
            "[INFO] processing image 50/107\n",
            "[INFO] processing image 51/107\n",
            "[INFO] processing image 52/107\n",
            "[INFO] processing image 53/107\n",
            "[INFO] processing image 54/107\n",
            "[INFO] processing image 55/107\n",
            "[INFO] processing image 56/107\n",
            "[INFO] processing image 57/107\n",
            "[INFO] processing image 58/107\n",
            "[INFO] processing image 59/107\n",
            "[INFO] processing image 60/107\n",
            "[INFO] processing image 61/107\n",
            "[INFO] processing image 62/107\n",
            "[INFO] processing image 63/107\n",
            "[INFO] processing image 64/107\n",
            "[INFO] processing image 65/107\n",
            "[INFO] processing image 66/107\n",
            "[INFO] processing image 67/107\n",
            "[INFO] processing image 68/107\n",
            "[INFO] processing image 69/107\n",
            "[INFO] processing image 70/107\n",
            "[INFO] processing image 71/107\n",
            "[INFO] processing image 72/107\n",
            "[INFO] processing image 73/107\n",
            "[INFO] processing image 74/107\n",
            "[INFO] processing image 75/107\n",
            "[INFO] processing image 76/107\n",
            "[INFO] processing image 77/107\n",
            "[INFO] processing image 78/107\n",
            "[INFO] processing image 79/107\n",
            "[INFO] processing image 80/107\n",
            "[INFO] processing image 81/107\n",
            "[INFO] processing image 82/107\n",
            "[INFO] processing image 83/107\n",
            "[INFO] processing image 84/107\n",
            "[INFO] processing image 85/107\n",
            "[INFO] processing image 86/107\n",
            "[INFO] processing image 87/107\n",
            "[INFO] processing image 88/107\n",
            "[INFO] processing image 89/107\n",
            "[INFO] processing image 90/107\n",
            "[INFO] processing image 91/107\n",
            "[INFO] processing image 92/107\n",
            "[INFO] processing image 93/107\n",
            "[INFO] processing image 94/107\n",
            "[INFO] processing image 95/107\n",
            "[INFO] processing image 96/107\n",
            "[INFO] processing image 97/107\n",
            "[INFO] processing image 98/107\n",
            "[INFO] processing image 99/107\n",
            "[INFO] processing image 100/107\n",
            "[INFO] processing image 101/107\n",
            "[INFO] processing image 102/107\n",
            "[INFO] processing image 103/107\n",
            "[INFO] processing image 104/107\n",
            "[INFO] processing image 105/107\n",
            "[INFO] processing image 106/107\n",
            "[INFO] processing image 107/107\n"
          ],
          "name": "stdout"
        }
      ]
    },
    {
      "cell_type": "code",
      "metadata": {
        "id": "DzRm0MNZ8EWi",
        "outputId": "72adf03d-82ae-428e-868e-f67088de80c5",
        "colab": {
          "base_uri": "https://localhost:8080/"
        }
      },
      "source": [
        "print(\"[INFO] serializing encodings...\")\n",
        "data = {\"encodings\": knownEncodings, \"names\": knownNames}\n",
        "f = open(encodings_path, \"wb\")\n",
        "f.write(pickle.dumps(data))\n",
        "f.close()"
      ],
      "execution_count": 13,
      "outputs": [
        {
          "output_type": "stream",
          "text": [
            "[INFO] serializing encodings...\n"
          ],
          "name": "stdout"
        }
      ]
    },
    {
      "cell_type": "markdown",
      "metadata": {
        "id": "QDfqOq0e9vHm"
      },
      "source": [
        " completion of encoding task"
      ]
    },
    {
      "cell_type": "markdown",
      "metadata": {
        "id": "FwIfVNhp9y22"
      },
      "source": [
        "# face detect"
      ]
    },
    {
      "cell_type": "code",
      "metadata": {
        "id": "wQixpHtj-_yc"
      },
      "source": [
        "import pickle\n",
        "import cv2\n",
        "import dlib"
      ],
      "execution_count": 14,
      "outputs": []
    },
    {
      "cell_type": "code",
      "metadata": {
        "id": "MsMZ8rwf_SBH"
      },
      "source": [
        "dlib.DLIB_USE_CUDA = True"
      ],
      "execution_count": 15,
      "outputs": []
    },
    {
      "cell_type": "code",
      "metadata": {
        "id": "iFgke6Cb_Uye"
      },
      "source": [
        "data = pickle.loads(open(encodings_path, \"rb\").read())"
      ],
      "execution_count": 16,
      "outputs": []
    },
    {
      "cell_type": "code",
      "metadata": {
        "id": "ULUvYJrsAP-J"
      },
      "source": [
        "test_image = \"/content/drive/My Drive/face-recong/example/mr.JPG\""
      ],
      "execution_count": 37,
      "outputs": []
    },
    {
      "cell_type": "code",
      "metadata": {
        "id": "b4B1F_MIArOr",
        "outputId": "fc5b07fc-c628-4eed-c992-5502afd98455",
        "colab": {
          "base_uri": "https://localhost:8080/"
        }
      },
      "source": [
        "# load the input image and convert it from BGR to RGB\n",
        "image = cv2.imread(test_image)\n",
        "rgb = cv2.cvtColor(image, cv2.COLOR_BGR2RGB)\n",
        "\n",
        "# detect the (x, y)-coordinates of the bounding boxes corresponding\n",
        "# to each face in the input image, then compute the facial embeddings\n",
        "# for each face\n",
        "print(\"[INFO] recognizing faces...\")\n",
        "boxes = face_recognition.face_locations(rgb,model=\"cnn\")\n",
        "encodings = face_recognition.face_encodings(rgb, boxes)\n",
        "\n",
        "# initialize the list of names for each face detected\n",
        "names = []"
      ],
      "execution_count": 38,
      "outputs": [
        {
          "output_type": "stream",
          "text": [
            "[INFO] recognizing faces...\n"
          ],
          "name": "stdout"
        }
      ]
    },
    {
      "cell_type": "code",
      "metadata": {
        "id": "PGm7nDqnA77t"
      },
      "source": [
        "# loop over the facial embeddings\n",
        "for encoding in encodings:\n",
        "\t# attempt to match each face in the input image to our known\n",
        "\t# encodings\n",
        "\tmatches = face_recognition.compare_faces(data[\"encodings\"],\n",
        "\t\tencoding)\n",
        "\tname = \"Unknown\"\n",
        "\n",
        "\t# check to see if we have found a match\n",
        "\tif True in matches:\n",
        "\t\t# find the indexes of all matched faces then initialize a\n",
        "\t\t# dictionary to count the total number of times each face\n",
        "\t\t# was matched\n",
        "\t\tmatchedIdxs = [i for (i, b) in enumerate(matches) if b]\n",
        "\t\tcounts = {}\n",
        "\n",
        "\t\t# loop over the matched indexes and maintain a count for\n",
        "\t\t# each recognized face face\n",
        "\t\tfor i in matchedIdxs:\n",
        "\t\t\tname = data[\"names\"][i]\n",
        "\t\t\tcounts[name] = counts.get(name, 0) + 1\n",
        "\n",
        "\t\t# determine the recognized face with the largest number of\n",
        "\t\t# votes (note: in the event of an unlikely tie Python will\n",
        "\t\t# select first entry in the dictionary)\n",
        "\t\tname = max(counts, key=counts.get)\n",
        "\t\n",
        "\t# update the list of names\n",
        "\tnames.append(name)\n",
        "\n",
        "# loop over the recognized faces\n",
        "for ((top, right, bottom, left), name) in zip(boxes, names):\n",
        "\t# draw the predicted face name on the image\n",
        "\tcv2.rectangle(image, (left, top), (right, bottom), (0, 255, 0), 2)\n",
        "\ty = top - 15 if top - 15 > 15 else top + 15\n",
        "\tcv2.putText(image, name, (left, y), cv2.FONT_HERSHEY_SIMPLEX,\n",
        "\t\t0.75, (0, 255, 0), 2)"
      ],
      "execution_count": 39,
      "outputs": []
    },
    {
      "cell_type": "code",
      "metadata": {
        "id": "sx-i-T1zB72O",
        "outputId": "90c03ddb-cc45-4dc1-be42-464be39af4df",
        "colab": {
          "base_uri": "https://localhost:8080/",
          "height": 286
        }
      },
      "source": [
        "from google.colab.patches import cv2_imshow\n",
        "cv2_imshow(image)\n",
        "cv2.waitKey(0)"
      ],
      "execution_count": 40,
      "outputs": [
        {
          "output_type": "display_data",
          "data": {
            "image/png": "[encoded data removed]",
            "text/plain": [
              "<PIL.Image.Image image mode=RGB size=526x252 at 0x7FDC97FAB0B8>"
            ]
          },
          "metadata": {
            "tags": []
          }
        },
        {
          "output_type": "execute_result",
          "data": {
            "text/plain": [
              "-1"
            ]
          },
          "metadata": {
            "tags": []
          },
          "execution_count": 40
        }
      ]
    },
    {
      "cell_type": "code",
      "metadata": {
        "id": "sRvRzVu4Bm_I"
      },
      "source": [
        ""
      ],
      "execution_count": null,
      "outputs": []
    }
  ]
}